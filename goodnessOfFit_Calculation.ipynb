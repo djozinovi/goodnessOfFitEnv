{
 "cells": [
  {
   "cell_type": "code",
   "execution_count": 31,
   "id": "22a50cd6",
   "metadata": {},
   "outputs": [],
   "source": [
    "import numpy as np\n",
    "import pandas as pd\n",
    "\n",
    "import obspy\n",
    "import os\n",
    "import obspy.signal.cross_correlation as cross_correlation\n",
    "\n",
    "from geopy.distance import great_circle"
   ]
  },
  {
   "cell_type": "markdown",
   "id": "d2bd28c3",
   "metadata": {},
   "source": [
    "### Initiate event parameters"
   ]
  },
  {
   "cell_type": "code",
   "execution_count": 32,
   "id": "12e2ad09",
   "metadata": {},
   "outputs": [],
   "source": [
    "mag = 4.3\n",
    "eventLat = 46.904747\n",
    "eventLon = 9.124708\n",
    "eventDepth = 1.4\n",
    "eventID = '2020vcnjhp'\n",
    "\n",
    "#The time of the p-arrival at the closest station. Employ a 2 second buffer before the first P-arrival to account\n",
    "#for 1) the envelope taking maximum inside 1 second window and 2) travel-time errors in the predicted envelopes\n",
    "firstParrival = 1.89\n",
    "if firstParrival < 2:\n",
    "    firstParrival = 0\n",
    "else:\n",
    "    firstParrival = firstParrival-2\n",
    "    \n",
    "# Window length after the first P arrival. Needed when loading the predicted envelopes (in operations), and \n",
    "# both observed and predicted when testing.\n",
    "windowLength = firstParrival + 4"
   ]
  },
  {
   "cell_type": "markdown",
   "id": "b5a87600",
   "metadata": {},
   "source": [
    "### Load the observed and predicted envelopes"
   ]
  },
  {
   "cell_type": "code",
   "execution_count": 33,
   "id": "83e6b336",
   "metadata": {},
   "outputs": [],
   "source": [
    "def calculate_epicentral_distance(stationLat, stationLon, eqLat, eqLon):\n",
    "    source_coords = (eqLat, eqLon)\n",
    "    station_coords = (stationLat, stationLon)\n",
    "\n",
    "    return great_circle(source_coords, station_coords).km"
   ]
  },
  {
   "cell_type": "code",
   "execution_count": 34,
   "id": "a9dcbe60",
   "metadata": {},
   "outputs": [],
   "source": [
    "# Loading the observed envelopes\n",
    "eventDir = 'observedEnvelopesNpy/earthquakes/' + eventID + '/'\n",
    "observedEnvelopesList = os.listdir(eventDir)\n",
    "usedStationNames = []\n",
    "observedEnvelopes = []\n",
    "for stationEnvelope in observedEnvelopesList:\n",
    "    usedStationNames.append(stationEnvelope.split('_')[0])\n",
    "    observedEnvelopes.append(np.load(eventDir +  stationEnvelope))\n"
   ]
  },
  {
   "cell_type": "code",
   "execution_count": 35,
   "id": "c914454d",
   "metadata": {},
   "outputs": [],
   "source": [
    "# Loading the predicted envelopes for stations that have the observed envelopes available\n",
    "# conditioned on magnitude, distance and site class.\n",
    "\n",
    "stationMetaData = pd.read_csv('stationInfo.csv')\n",
    "predictedEnvelopes = []\n",
    "\n",
    "for station in usedStationNames:\n",
    "    net, sta = station.split('.')\n",
    "    \n",
    "    staInfo = stationMetaData[(stationMetaData['station_network_code']==net) & (stationMetaData['station_code']==sta)]\n",
    "    \n",
    "    ec8class = staInfo.station_EC8.values[0]\n",
    "    if ec8class == 'A' or ec8class == 'B':\n",
    "        soilType = 'R'\n",
    "    else:\n",
    "        soilType = 'S'\n",
    "    \n",
    "    stationLatitude = staInfo.station_latitude_deg.values[0]\n",
    "    stationLongitude = staInfo.station_longitude_deg.values[0]\n",
    "    epicentralDistance = calculate_epicentral_distance(stationLatitude, stationLongitude, eventLat, eventLon)\n",
    "    hypocentralDistance = int((np.sqrt(epicentralDistance**2 + eventDepth**2)))\n",
    "    \n",
    "    predictedEnvelopeFolder = '/'.join(['envelopeTemplatesNpy/', soilType, str(mag), str(hypocentralDistance)]) + '/' \n",
    "    predictedEnvelopes.append(np.load(predictedEnvelopeFolder + 'V_H.npy')/100) #The predicted envelopes are provided in cm/s, we divide by 100 to get m/s"
   ]
  },
  {
   "cell_type": "markdown",
   "id": "4b7ca2d5",
   "metadata": {},
   "source": [
    "### Calculate the goodness of fit"
   ]
  },
  {
   "cell_type": "code",
   "execution_count": 36,
   "id": "db6a5c14",
   "metadata": {},
   "outputs": [],
   "source": [
    "def calc_correlation(observedEnvelope, predictedEnvelope):\n",
    "    \n",
    "    crossCorrStatic = cross_correlation.correlate(observedEnvelope, predictedEnvelope, shift=0)[0]\n",
    "    \n",
    "    if crossCorrStatic < 0:\n",
    "        crossCorrStatic = 0\n",
    "    \n",
    "    return crossCorrStatic"
   ]
  },
  {
   "cell_type": "code",
   "execution_count": 37,
   "id": "d5fd93ef",
   "metadata": {},
   "outputs": [],
   "source": [
    "def calculate_amplitude_fit(observedEnvelope, predictedEnvelope):\n",
    "    obsMax = np.max(observedEnvelope)\n",
    "    predMax = np.max(predictedEnvelope)\n",
    "    \n",
    "    aFit = 1-np.sqrt(((obsMax-predMax)**2)/((obsMax+predMax)**2))\n",
    "    \n",
    "    return aFit"
   ]
  },
  {
   "cell_type": "code",
   "execution_count": 38,
   "id": "dd31f5f1",
   "metadata": {},
   "outputs": [
    {
     "name": "stdout",
     "output_type": "stream",
     "text": [
      "80.7093541881\n"
     ]
    }
   ],
   "source": [
    "# Calculate the goodness-of-fit. A minimal amplitude threshold of 0.00005, \n",
    "# in either observed or predicted envelope, is employed as a proxy for triggered stations.\n",
    "stationGoF = []\n",
    "\n",
    "for j in range(len(usedStationNames)):\n",
    "    if np.max([observedEnvelopes[j][firstParrival:windowLength], predictedEnvelopes[j][firstParrival:windowLength]]) > 0.00005:\n",
    "        corrFit = calc_correlation(observedEnvelopes[j][firstParrival:windowLength], predictedEnvelopes[j][firstParrival:windowLength])\n",
    "        ampFit = calculate_amplitude_fit(observedEnvelopes[j][firstParrival:windowLength], predictedEnvelopes[j][firstParrival:windowLength])\n",
    "        stationGoF.append(np.sqrt(ampFit*corrFit))\n",
    "\n",
    "\n",
    "totalGoF = 100*np.average(stationGoF)\n",
    "print(totalGoF)"
   ]
  },
  {
   "cell_type": "code",
   "execution_count": null,
   "id": "ccf293d3",
   "metadata": {},
   "outputs": [],
   "source": []
  }
 ],
 "metadata": {
  "kernelspec": {
   "display_name": "Python 3 (ipykernel)",
   "language": "python",
   "name": "python3"
  },
  "language_info": {
   "codemirror_mode": {
    "name": "ipython",
    "version": 3
   },
   "file_extension": ".py",
   "mimetype": "text/x-python",
   "name": "python",
   "nbconvert_exporter": "python",
   "pygments_lexer": "ipython3",
   "version": "3.8.15"
  }
 },
 "nbformat": 4,
 "nbformat_minor": 5
}
